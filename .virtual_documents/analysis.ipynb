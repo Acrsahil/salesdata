from datetime import datetime
import pandas as pd
import seaborn as sns
import matplotlib.pyplot as plt


df = pd.read_csv("train.csv")
df.head(3)


# filling missing value with 0
df['Postal Code'] = df['Postal Code'].fillna(0)



df.head(3)


result = df.groupby('Category')['Sales'].sum()
result.head()




# Ensure result is a DataFrame
result = df.groupby('Category')['Sales'].sum().reset_index()

# Plotting the pie chart
plt.pie(result['Sales'],labels=result['Category'],autopct='%1.1f%%',startangle=90)

# Adding a title
plt.title('Sales Distribution by Category')

# Show the plot
plt.show()







df.head(3)



df['Order Date'] = df['Order Date'].str.strip() #striping data from both side

#pd.to_datetime(df['Order Date'])
def swapvalues(s): # changing the date format so that we can further use apply in datetime
    s = s.split('/')
    return f"{s[2]}-{s[1]}-{s[0]}"
    
#df['Order Date'] = df['Order Date'].apply(lambda x: swapvalues(x))
df['Ship Date'] = df['Ship Date'].apply(lambda x: swapvalues(x))
df['Order Date'] = df['Order Date'].apply(lambda x: swapvalues(x))
df.head(3)


# changing the dtypes to datetime format
df['Order Date'] = pd.to_datetime(df['Order Date'])
df['Ship Date'] = pd.to_datetime(df['Ship Date'])


result = df.groupby(df['Order Date'].dt.day)['Sales'].sum().reset_index()
res = result['Sales'].sum()/result['Sales'].count()
result.describe()


print(res)









plt.figure(figsize=(15, 6))
sns.stripplot(data=result,x='Order Date',y='Sales')





df.head()





city_sales = df.groupby('City')['Sales'].sum().reset_index()


max_sales_city = city_sales.nlargest(1, 'Sales')
max_sales_city.head()






df.head()





monthly_sales = df.groupby(df['Order Date'].dt.month)['Sales'].sum().reset_index()
monthly_sales.nlargest(1,'Sales')








df.head(3)


difference_date = df['Ship Date'].dt.day - df['Order Date'].dt.day


difference_date = pd.DataFrame(difference_date)
difference_date.describe()



cnt = 0
def call(x):
    global cnt
    if x > 0:
        cnt+=1
df['Difference Date of month'] = df['Ship Date'].dt.month - df['Order Date'].dt.month
df['Difference Date of month'].apply(lambda x: call(x))
df[df['Difference Date of month'] > 0]


df[df['Difference Date of month']<0]



df['diffdays'] = df['Ship Date'] - df['Order Date']
df.head()


df = df.drop(columns='Difference Date of month') # deleting previous  unwanted record


def convert(x):
    return x.days
    
df['diffdays'] = df['diffdays'].apply(lambda x : convert(x))
df.head()


df['diff_days'] = (df['Ship Date'] - df['Order Date']).dt.days
df.head(3)



#df = df.drop(columns='diffdays')

df['totaldays'] = df['diff_days'] + (df['Ship Date'].dt.month - df['Order Date'].dt.month) * 30 # changing month to days to find total days gap
df['totaldays'].sum()/df['totaldays'].count()








monthly_sales = df.groupby(df['Order Date'].dt.month)['Order ID'].count().reset_index()
monthly_sales.nlargest(1,'Order ID')








category_sales = df.groupby(['Category','Product Name'])['Sales'].sum().reset_index() # first group by with sales


g = category_sales.groupby('Category')
g.max()








df.head(3)


grouped = df.groupby('Ship Mode')['totaldays']
grouped.sum()/grouped.count()






df.head(3)





sub_category_sales = df.groupby('Sub-Category')['Sales'].sum()
maxsubcategory = sub_category_sales.idxmax()
print(f"{maxsubcategory} : {sub_category_sales[maxsubcategory]}")





def splits(strs,chars = ' '):
    lst = []
    temp = ""
    for i in strs:
        if i == chars:
            if temp != "":
                lst.append(temp)
            temp = ""
        else:
            temp+=i
    if temp != "" : lst.append(temp)
    return lst
strs = "i am a python coder    "
splits(strs)





df.head(3)


unique_value_region = df.groupby('Region')['Customer ID'].nunique().reset_index()
unique_value_region.head()




plt.pie(unique_value_region['Customer ID'],labels=unique_value_region['Region'],autopct='%1.1f%%',startangle=90)

# Adding a title
plt.title('Region Unique  value ')

# Show the plot
plt.show()



unique_value_region.head()








df.head()


avgshipmode = df.groupby('Ship Mode')['totaldays'].mean().reset_index()





sns.barplot(x = avgshipmode['Ship Mode'],y=avgshipmode['totaldays'])
